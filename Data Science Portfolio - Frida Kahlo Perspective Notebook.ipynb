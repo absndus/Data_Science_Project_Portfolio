{
 "cells": [
  {
   "cell_type": "markdown",
   "id": "3ee8e4f4",
   "metadata": {
    "papermill": {
     "duration": 0.010467,
     "end_time": "2023-05-23T16:47:19.463719",
     "exception": false,
     "start_time": "2023-05-23T16:47:19.453252",
     "status": "completed"
    },
    "tags": []
   },
   "source": [
    "## Data Science Portfolio - Frida Kahlo Perspective Notebook ##"
   ]
  },
  {
   "cell_type": "markdown",
   "id": "ad277f98",
   "metadata": {
    "papermill": {
     "duration": 0.008841,
     "end_time": "2023-05-23T16:47:19.482260",
     "exception": false,
     "start_time": "2023-05-23T16:47:19.473419",
     "status": "completed"
    },
    "tags": []
   },
   "source": [
    "### Created by: Albert Schultz ###"
   ]
  },
  {
   "cell_type": "markdown",
   "id": "325e9318",
   "metadata": {
    "papermill": {
     "duration": 0.008936,
     "end_time": "2023-05-23T16:47:19.500556",
     "exception": false,
     "start_time": "2023-05-23T16:47:19.491620",
     "status": "completed"
    },
    "tags": []
   },
   "source": [
    "### Date Created: 05/23/2023 ###"
   ]
  },
  {
   "cell_type": "markdown",
   "id": "9fc99b68",
   "metadata": {
    "papermill": {
     "duration": 0.009299,
     "end_time": "2023-05-23T16:47:19.518774",
     "exception": false,
     "start_time": "2023-05-23T16:47:19.509475",
     "status": "completed"
    },
    "tags": []
   },
   "source": [
    "### Version: 1.00 ###"
   ]
  },
  {
   "cell_type": "markdown",
   "id": "b4574b38",
   "metadata": {
    "papermill": {
     "duration": 0.008966,
     "end_time": "2023-05-23T16:47:19.536726",
     "exception": false,
     "start_time": "2023-05-23T16:47:19.527760",
     "status": "completed"
    },
    "tags": []
   },
   "source": [
    "### Executive Summary ###\n",
    "This notebook goes over the analysis of the works of art from the Frida Kahlo Perspective using the skills learned in the Python IDE. "
   ]
  },
  {
   "cell_type": "markdown",
   "id": "5ba3727f",
   "metadata": {
    "papermill": {
     "duration": 0.008973,
     "end_time": "2023-05-23T16:47:19.554558",
     "exception": false,
     "start_time": "2023-05-23T16:47:19.545585",
     "status": "completed"
    },
    "tags": []
   },
   "source": [
    "### Table of Contents ###"
   ]
  },
  {
   "cell_type": "markdown",
   "id": "72ed097f",
   "metadata": {
    "papermill": {
     "duration": 0.008997,
     "end_time": "2023-05-23T16:47:19.572865",
     "exception": false,
     "start_time": "2023-05-23T16:47:19.563868",
     "status": "completed"
    },
    "tags": []
   },
   "source": [
    "1. [Introduction](#1.-Introduction)\n",
    "2. [Understanding Purpose, Goals, and Vision](#2.-Understanding-Purpose,-Goals,-and-Vision)\n",
    "3. [Import the Raw CSV Medical Insurance Data Set](#3.-Import-the-Raw-Paintings-Data-Sets)\n",
    "4. [Perform Data Cleaning and Manipulations](#4.-Perform-Data-Cleaning-and-Manipulations)\n",
    "5. [Present the Master List of Paintings](#5.-Present-the-Master-List-of-Paintings)\n",
    "6. [Summary](#Summary)"
   ]
  },
  {
   "cell_type": "markdown",
   "id": "d2140d57",
   "metadata": {
    "papermill": {
     "duration": 0.00875,
     "end_time": "2023-05-23T16:47:19.590776",
     "exception": false,
     "start_time": "2023-05-23T16:47:19.582026",
     "status": "completed"
    },
    "tags": []
   },
   "source": [
    "### 1. Introduction ###"
   ]
  },
  {
   "cell_type": "markdown",
   "id": "cfee43ac",
   "metadata": {
    "papermill": {
     "duration": 0.008764,
     "end_time": "2023-05-23T16:47:19.608561",
     "exception": false,
     "start_time": "2023-05-23T16:47:19.599797",
     "status": "completed"
    },
    "tags": []
   },
   "source": [
    "In this project, the notebook puts together an audio tour that would create a list of each painting featured in the Frida Kahlo's Museum to neatly organize the paintings for others to see. Using the Python lists and iterations in loops would significantly cut down the effort it takes to create a master list for each painting and its date and audio tour ID. "
   ]
  },
  {
   "cell_type": "markdown",
   "id": "ca50c651",
   "metadata": {
    "papermill": {
     "duration": 0.008271,
     "end_time": "2023-05-23T16:47:19.625845",
     "exception": false,
     "start_time": "2023-05-23T16:47:19.617574",
     "status": "completed"
    },
    "tags": []
   },
   "source": [
    "**Initialize the Notebook for data access, import library modules, and set the working directory for this project.**"
   ]
  },
  {
   "cell_type": "code",
   "execution_count": 1,
   "id": "01380bc9",
   "metadata": {
    "execution": {
     "iopub.execute_input": "2023-05-23T16:47:19.645914Z",
     "iopub.status.busy": "2023-05-23T16:47:19.645271Z",
     "iopub.status.idle": "2023-05-23T16:47:19.655984Z",
     "shell.execute_reply": "2023-05-23T16:47:19.655120Z"
    },
    "papermill": {
     "duration": 0.022823,
     "end_time": "2023-05-23T16:47:19.657913",
     "exception": false,
     "start_time": "2023-05-23T16:47:19.635090",
     "status": "completed"
    },
    "tags": []
   },
   "outputs": [],
   "source": [
    "import numpy as np # linear algebra\n",
    "import pandas as pd # data processing, CSV file I/O (e.g. pd.read_csv)\n",
    "import os\n",
    "for dirname, _, filenames in os.walk('/kaggle/input'):\n",
    "    for filename in filenames:\n",
    "        print(os.path.join(dirname, filename))"
   ]
  },
  {
   "cell_type": "markdown",
   "id": "9fc5fbd0",
   "metadata": {
    "papermill": {
     "duration": 0.008653,
     "end_time": "2023-05-23T16:47:19.675887",
     "exception": false,
     "start_time": "2023-05-23T16:47:19.667234",
     "status": "completed"
    },
    "tags": []
   },
   "source": [
    "### 2. Understanding Purpose, Goals, and Vision ###"
   ]
  },
  {
   "cell_type": "markdown",
   "id": "ed668d80",
   "metadata": {
    "papermill": {
     "duration": 0.009216,
     "end_time": "2023-05-23T16:47:19.694345",
     "exception": false,
     "start_time": "2023-05-23T16:47:19.685129",
     "status": "completed"
    },
    "tags": []
   },
   "source": [
    "The vision of the this Frida Kahlo's Perspective Portfolio notebook is; to create an understandable Paintings Master List that shows the attributes of each painting. Such attributes includes the painting's name, date, and audio tour ID. "
   ]
  },
  {
   "cell_type": "markdown",
   "id": "10d34b79",
   "metadata": {
    "papermill": {
     "duration": 0.008954,
     "end_time": "2023-05-23T16:47:19.712300",
     "exception": false,
     "start_time": "2023-05-23T16:47:19.703346",
     "status": "completed"
    },
    "tags": []
   },
   "source": [
    "**Vision:** To showcase the paintings via the master list created in this project notebook to others so people may understand the paintings from small samples of data in the variables. "
   ]
  },
  {
   "cell_type": "markdown",
   "id": "a179c726",
   "metadata": {
    "papermill": {
     "duration": 0.008524,
     "end_time": "2023-05-23T16:47:19.729783",
     "exception": false,
     "start_time": "2023-05-23T16:47:19.721259",
     "status": "completed"
    },
    "tags": []
   },
   "source": [
    "**Goals:**\n",
    "1. Review the paintings' attributes and associated data sets that goes along with each painting to understand if there are missing information for observations along with abnormalities in the attributes of the table.\n",
    "2. Import the data set into the Python IDE environment for staging, extractions, data manipulations and presentation.\n",
    "3. Create lists and import the Frida Kahlo's data based on the attribute column names for brevity and organizational sake.\n",
    "4. Perform Exploratory Data Analysis to understand aspects of Kahlo's works of the paintings. \n",
    "5. Present the cleaned data set of the paintings master list. "
   ]
  },
  {
   "cell_type": "markdown",
   "id": "5c2938e7",
   "metadata": {
    "papermill": {
     "duration": 0.008827,
     "end_time": "2023-05-23T16:47:19.747562",
     "exception": false,
     "start_time": "2023-05-23T16:47:19.738735",
     "status": "completed"
    },
    "tags": []
   },
   "source": [
    "### 3. Import the Raw Paintings Data Sets ###"
   ]
  },
  {
   "cell_type": "markdown",
   "id": "523b4885",
   "metadata": {
    "papermill": {
     "duration": 0.008554,
     "end_time": "2023-05-23T16:47:19.765279",
     "exception": false,
     "start_time": "2023-05-23T16:47:19.756725",
     "status": "completed"
    },
    "tags": []
   },
   "source": [
    "**Introduction:** In this section, the following data sets would be imported into this notebook for analysis. "
   ]
  },
  {
   "cell_type": "markdown",
   "id": "37985fd0",
   "metadata": {
    "papermill": {
     "duration": 0.008649,
     "end_time": "2023-05-23T16:47:19.783272",
     "exception": false,
     "start_time": "2023-05-23T16:47:19.774623",
     "status": "completed"
    },
    "tags": []
   },
   "source": [
    "1. Create the required data sets below for analysis. "
   ]
  },
  {
   "cell_type": "code",
   "execution_count": 2,
   "id": "05496e1c",
   "metadata": {
    "execution": {
     "iopub.execute_input": "2023-05-23T16:47:19.803095Z",
     "iopub.status.busy": "2023-05-23T16:47:19.802747Z",
     "iopub.status.idle": "2023-05-23T16:47:19.807629Z",
     "shell.execute_reply": "2023-05-23T16:47:19.806688Z"
    },
    "papermill": {
     "duration": 0.017295,
     "end_time": "2023-05-23T16:47:19.809702",
     "exception": false,
     "start_time": "2023-05-23T16:47:19.792407",
     "status": "completed"
    },
    "tags": []
   },
   "outputs": [],
   "source": [
    "paintings = ['The Two Fridas', 'My Dress Hangs Here', 'Tree of Hope', 'Self Portrait With Monkeys']\n",
    "dates = [1939, 1933, 1946, 1940]"
   ]
  },
  {
   "cell_type": "markdown",
   "id": "1a47b9b4",
   "metadata": {
    "papermill": {
     "duration": 0.00874,
     "end_time": "2023-05-23T16:47:19.827431",
     "exception": false,
     "start_time": "2023-05-23T16:47:19.818691",
     "status": "completed"
    },
    "tags": []
   },
   "source": [
    "### 4. Perform Data Cleaning and Manipulations ###"
   ]
  },
  {
   "cell_type": "markdown",
   "id": "699b9b05",
   "metadata": {
    "papermill": {
     "duration": 0.008747,
     "end_time": "2023-05-23T16:47:19.845531",
     "exception": false,
     "start_time": "2023-05-23T16:47:19.836784",
     "status": "completed"
    },
    "tags": []
   },
   "source": [
    "**Introduction:** In this section, it goes through the process of zipping the two data lists into a zipped paints variable, generating the unique ID for each paintings and presenting the cleaned data as a **paintings_master_list** list."
   ]
  },
  {
   "cell_type": "markdown",
   "id": "5a4be3dc",
   "metadata": {
    "papermill": {
     "duration": 0.008884,
     "end_time": "2023-05-23T16:47:19.863576",
     "exception": false,
     "start_time": "2023-05-23T16:47:19.854692",
     "status": "completed"
    },
    "tags": []
   },
   "source": [
    "1. Zip the two data list, **paintings** and **dates** together and resave it as, **paintings**."
   ]
  },
  {
   "cell_type": "code",
   "execution_count": 3,
   "id": "d18291cd",
   "metadata": {
    "execution": {
     "iopub.execute_input": "2023-05-23T16:47:19.883383Z",
     "iopub.status.busy": "2023-05-23T16:47:19.882994Z",
     "iopub.status.idle": "2023-05-23T16:47:19.887429Z",
     "shell.execute_reply": "2023-05-23T16:47:19.886444Z"
    },
    "papermill": {
     "duration": 0.016598,
     "end_time": "2023-05-23T16:47:19.889471",
     "exception": false,
     "start_time": "2023-05-23T16:47:19.872873",
     "status": "completed"
    },
    "tags": []
   },
   "outputs": [],
   "source": [
    "paintings = list(zip(paintings, dates))"
   ]
  },
  {
   "cell_type": "markdown",
   "id": "58b1ace8",
   "metadata": {
    "papermill": {
     "duration": 0.008961,
     "end_time": "2023-05-23T16:47:19.907875",
     "exception": false,
     "start_time": "2023-05-23T16:47:19.898914",
     "status": "completed"
    },
    "tags": []
   },
   "source": [
    "2. Print the **paintings** zipped list to show the results of the joined variables."
   ]
  },
  {
   "cell_type": "code",
   "execution_count": 4,
   "id": "c4406654",
   "metadata": {
    "execution": {
     "iopub.execute_input": "2023-05-23T16:47:19.927480Z",
     "iopub.status.busy": "2023-05-23T16:47:19.926874Z",
     "iopub.status.idle": "2023-05-23T16:47:19.931105Z",
     "shell.execute_reply": "2023-05-23T16:47:19.930486Z"
    },
    "papermill": {
     "duration": 0.016461,
     "end_time": "2023-05-23T16:47:19.933313",
     "exception": false,
     "start_time": "2023-05-23T16:47:19.916852",
     "status": "completed"
    },
    "tags": []
   },
   "outputs": [
    {
     "name": "stdout",
     "output_type": "stream",
     "text": [
      "Here is the zipped paintings list: [('The Two Fridas', 1939), ('My Dress Hangs Here', 1933), ('Tree of Hope', 1946), ('Self Portrait With Monkeys', 1940)]\n"
     ]
    }
   ],
   "source": [
    "print(f\"Here is the zipped paintings list: {paintings}\")"
   ]
  },
  {
   "cell_type": "markdown",
   "id": "655f8cda",
   "metadata": {
    "papermill": {
     "duration": 0.009115,
     "end_time": "2023-05-23T16:47:19.951216",
     "exception": false,
     "start_time": "2023-05-23T16:47:19.942101",
     "status": "completed"
    },
    "tags": []
   },
   "source": [
    "3. Append the new paintings to the existing paints variable; **\"The Broken Column\",1944 \"The Wounded Deer\",1946 \"Me and My Doll\",1937.**"
   ]
  },
  {
   "cell_type": "code",
   "execution_count": 5,
   "id": "a7b2bef1",
   "metadata": {
    "execution": {
     "iopub.execute_input": "2023-05-23T16:47:19.971378Z",
     "iopub.status.busy": "2023-05-23T16:47:19.970701Z",
     "iopub.status.idle": "2023-05-23T16:47:19.976490Z",
     "shell.execute_reply": "2023-05-23T16:47:19.975104Z"
    },
    "papermill": {
     "duration": 0.020103,
     "end_time": "2023-05-23T16:47:19.980102",
     "exception": false,
     "start_time": "2023-05-23T16:47:19.959999",
     "status": "completed"
    },
    "tags": []
   },
   "outputs": [],
   "source": [
    "paintings.append(['The Broken Column',1944])\n",
    "paintings.append(['The Wounded Deer',1946])\n",
    "paintings.append(['Me and My Doll',1937])"
   ]
  },
  {
   "cell_type": "markdown",
   "id": "a7028b78",
   "metadata": {
    "papermill": {
     "duration": 0.009892,
     "end_time": "2023-05-23T16:47:20.000063",
     "exception": false,
     "start_time": "2023-05-23T16:47:19.990171",
     "status": "completed"
    },
    "tags": []
   },
   "source": [
    "4. Print the appended list, **paints**."
   ]
  },
  {
   "cell_type": "code",
   "execution_count": 6,
   "id": "87b6c881",
   "metadata": {
    "execution": {
     "iopub.execute_input": "2023-05-23T16:47:20.028113Z",
     "iopub.status.busy": "2023-05-23T16:47:20.027072Z",
     "iopub.status.idle": "2023-05-23T16:47:20.033265Z",
     "shell.execute_reply": "2023-05-23T16:47:20.032215Z"
    },
    "papermill": {
     "duration": 0.02425,
     "end_time": "2023-05-23T16:47:20.036756",
     "exception": false,
     "start_time": "2023-05-23T16:47:20.012506",
     "status": "completed"
    },
    "tags": []
   },
   "outputs": [
    {
     "name": "stdout",
     "output_type": "stream",
     "text": [
      "[('The Two Fridas', 1939), ('My Dress Hangs Here', 1933), ('Tree of Hope', 1946), ('Self Portrait With Monkeys', 1940), ['The Broken Column', 1944], ['The Wounded Deer', 1946], ['Me and My Doll', 1937]]\n"
     ]
    }
   ],
   "source": [
    "print(paintings)"
   ]
  },
  {
   "cell_type": "markdown",
   "id": "a5570dca",
   "metadata": {
    "papermill": {
     "duration": 0.012361,
     "end_time": "2023-05-23T16:47:20.061119",
     "exception": false,
     "start_time": "2023-05-23T16:47:20.048758",
     "status": "completed"
    },
    "tags": []
   },
   "source": [
    "5. Since each painting is going to be in the audio tour, they need to have a unique ID number. Before doing that, find the length of the paintings list. "
   ]
  },
  {
   "cell_type": "code",
   "execution_count": 7,
   "id": "347be8ff",
   "metadata": {
    "execution": {
     "iopub.execute_input": "2023-05-23T16:47:20.082416Z",
     "iopub.status.busy": "2023-05-23T16:47:20.081421Z",
     "iopub.status.idle": "2023-05-23T16:47:20.087518Z",
     "shell.execute_reply": "2023-05-23T16:47:20.086253Z"
    },
    "papermill": {
     "duration": 0.018873,
     "end_time": "2023-05-23T16:47:20.089696",
     "exception": false,
     "start_time": "2023-05-23T16:47:20.070823",
     "status": "completed"
    },
    "tags": []
   },
   "outputs": [
    {
     "name": "stdout",
     "output_type": "stream",
     "text": [
      "The total numbers of paintings in the paintings list is 7.\n"
     ]
    }
   ],
   "source": [
    "print(f\"The total numbers of paintings in the paintings list is {str(len(paintings))}.\")"
   ]
  },
  {
   "cell_type": "markdown",
   "id": "e3711be4",
   "metadata": {
    "papermill": {
     "duration": 0.009027,
     "end_time": "2023-05-23T16:47:20.108170",
     "exception": false,
     "start_time": "2023-05-23T16:47:20.099143",
     "status": "completed"
    },
    "tags": []
   },
   "source": [
    "6. Use the range method to gernate a list of identification numbers that starts at 1 and is equal to the length of the paintings. Save the list to the variable, **audio_tour_number** and check the new list by printing them to the screen. "
   ]
  },
  {
   "cell_type": "code",
   "execution_count": 8,
   "id": "c5dac09a",
   "metadata": {
    "execution": {
     "iopub.execute_input": "2023-05-23T16:47:20.127875Z",
     "iopub.status.busy": "2023-05-23T16:47:20.127549Z",
     "iopub.status.idle": "2023-05-23T16:47:20.132163Z",
     "shell.execute_reply": "2023-05-23T16:47:20.131172Z"
    },
    "papermill": {
     "duration": 0.017357,
     "end_time": "2023-05-23T16:47:20.134797",
     "exception": false,
     "start_time": "2023-05-23T16:47:20.117440",
     "status": "completed"
    },
    "tags": []
   },
   "outputs": [
    {
     "name": "stdout",
     "output_type": "stream",
     "text": [
      "[0, 1, 2, 3, 4, 5, 6]\n"
     ]
    }
   ],
   "source": [
    "audio_tour_number = list(range(len(paintings)))\n",
    "print(audio_tour_number)"
   ]
  },
  {
   "cell_type": "markdown",
   "id": "0e91558d",
   "metadata": {
    "papermill": {
     "duration": 0.009229,
     "end_time": "2023-05-23T16:47:20.153803",
     "exception": false,
     "start_time": "2023-05-23T16:47:20.144574",
     "status": "completed"
    },
    "tags": []
   },
   "source": [
    "7. Generate the paintings master list."
   ]
  },
  {
   "cell_type": "code",
   "execution_count": 9,
   "id": "a1177f76",
   "metadata": {
    "execution": {
     "iopub.execute_input": "2023-05-23T16:47:20.174165Z",
     "iopub.status.busy": "2023-05-23T16:47:20.173837Z",
     "iopub.status.idle": "2023-05-23T16:47:20.177851Z",
     "shell.execute_reply": "2023-05-23T16:47:20.176842Z"
    },
    "papermill": {
     "duration": 0.016488,
     "end_time": "2023-05-23T16:47:20.179608",
     "exception": false,
     "start_time": "2023-05-23T16:47:20.163120",
     "status": "completed"
    },
    "tags": []
   },
   "outputs": [],
   "source": [
    "paintings_master_list = list(zip(paintings, audio_tour_number))"
   ]
  },
  {
   "cell_type": "markdown",
   "id": "7799fc3e",
   "metadata": {
    "papermill": {
     "duration": 0.009185,
     "end_time": "2023-05-23T16:47:20.198222",
     "exception": false,
     "start_time": "2023-05-23T16:47:20.189037",
     "status": "completed"
    },
    "tags": []
   },
   "source": [
    "8. Print the numbers of paintings from the **paintings_master_list** data. "
   ]
  },
  {
   "cell_type": "code",
   "execution_count": 10,
   "id": "d6869cd9",
   "metadata": {
    "execution": {
     "iopub.execute_input": "2023-05-23T16:47:20.218500Z",
     "iopub.status.busy": "2023-05-23T16:47:20.218170Z",
     "iopub.status.idle": "2023-05-23T16:47:20.223428Z",
     "shell.execute_reply": "2023-05-23T16:47:20.222418Z"
    },
    "papermill": {
     "duration": 0.018153,
     "end_time": "2023-05-23T16:47:20.225702",
     "exception": false,
     "start_time": "2023-05-23T16:47:20.207549",
     "status": "completed"
    },
    "tags": []
   },
   "outputs": [
    {
     "name": "stdout",
     "output_type": "stream",
     "text": [
      "The total numbers of the paintings in the master list with unique ID is 7.\n"
     ]
    }
   ],
   "source": [
    "print(f\"The total numbers of the paintings in the master list with unique ID is {str(len(paintings_master_list))}.\")"
   ]
  },
  {
   "cell_type": "markdown",
   "id": "bbd96b6b",
   "metadata": {
    "papermill": {
     "duration": 0.00958,
     "end_time": "2023-05-23T16:47:20.245211",
     "exception": false,
     "start_time": "2023-05-23T16:47:20.235631",
     "status": "completed"
    },
    "tags": []
   },
   "source": [
    "### 5. Present the Master List of Paintings ###"
   ]
  },
  {
   "cell_type": "markdown",
   "id": "f5110766",
   "metadata": {
    "papermill": {
     "duration": 0.00964,
     "end_time": "2023-05-23T16:47:20.264692",
     "exception": false,
     "start_time": "2023-05-23T16:47:20.255052",
     "status": "completed"
    },
    "tags": []
   },
   "source": [
    "**introduction:** Present the master list of paintings to the people that wants to know more about the paintings. "
   ]
  },
  {
   "cell_type": "code",
   "execution_count": 11,
   "id": "9e058118",
   "metadata": {
    "execution": {
     "iopub.execute_input": "2023-05-23T16:47:20.285952Z",
     "iopub.status.busy": "2023-05-23T16:47:20.285300Z",
     "iopub.status.idle": "2023-05-23T16:47:20.292126Z",
     "shell.execute_reply": "2023-05-23T16:47:20.291030Z"
    },
    "papermill": {
     "duration": 0.01964,
     "end_time": "2023-05-23T16:47:20.294060",
     "exception": false,
     "start_time": "2023-05-23T16:47:20.274420",
     "status": "completed"
    },
    "tags": []
   },
   "outputs": [
    {
     "name": "stdout",
     "output_type": "stream",
     "text": [
      "The name of the painting is The Two Fridas whose year was on 1939 and its unique ID is 0.\n",
      "The name of the painting is My Dress Hangs Here whose year was on 1933 and its unique ID is 1.\n",
      "The name of the painting is Tree of Hope whose year was on 1946 and its unique ID is 2.\n",
      "The name of the painting is Self Portrait With Monkeys whose year was on 1940 and its unique ID is 3.\n",
      "The name of the painting is The Broken Column whose year was on 1944 and its unique ID is 4.\n",
      "The name of the painting is The Wounded Deer whose year was on 1946 and its unique ID is 5.\n",
      "The name of the painting is Me and My Doll whose year was on 1937 and its unique ID is 6.\n"
     ]
    }
   ],
   "source": [
    "index = 0\n",
    "\n",
    "#Iterate through the paintings_master_list and pull the three attributes of the paintings' metadata and display lines of readable and understandable text for others to see. \n",
    "while index < len(paintings_master_list):\n",
    "    year = paintings_master_list[index][0][1] #Gets the year of the paintings.  \n",
    "    name = paintings_master_list[index][0][0] #Gets the name of the paintings.  \n",
    "    uid = paintings_master_list[index][1] #Gets the unique ID of the paintings.  \n",
    "    #Print the paintings' master data to a readable and easy list for anyone to understand. \n",
    "    print(f\"The name of the painting is {name} whose year was on {str(year)} and its unique ID is {str(uid)}.\")\n",
    "    index += 1"
   ]
  },
  {
   "cell_type": "markdown",
   "id": "35802fdc",
   "metadata": {
    "papermill": {
     "duration": 0.010111,
     "end_time": "2023-05-23T16:47:20.313907",
     "exception": false,
     "start_time": "2023-05-23T16:47:20.303796",
     "status": "completed"
    },
    "tags": []
   },
   "source": [
    "### Summary ###"
   ]
  },
  {
   "cell_type": "markdown",
   "id": "4e8aae18",
   "metadata": {
    "papermill": {
     "duration": 0.009621,
     "end_time": "2023-05-23T16:47:20.333361",
     "exception": false,
     "start_time": "2023-05-23T16:47:20.323740",
     "status": "completed"
    },
    "tags": []
   },
   "source": [
    "This project portfolio greatly can help others new to data science to understand the step by step process of cleaning data sets and putting the data into meaningful printouts for others to understand once the data has been cleaned and inspected for any abnormalities. "
   ]
  }
 ],
 "metadata": {
  "kernelspec": {
   "display_name": "Python 3",
   "language": "python",
   "name": "python3"
  },
  "language_info": {
   "codemirror_mode": {
    "name": "ipython",
    "version": 3
   },
   "file_extension": ".py",
   "mimetype": "text/x-python",
   "name": "python",
   "nbconvert_exporter": "python",
   "pygments_lexer": "ipython3",
   "version": "3.10.10"
  },
  "papermill": {
   "default_parameters": {},
   "duration": 12.066601,
   "end_time": "2023-05-23T16:47:21.063391",
   "environment_variables": {},
   "exception": null,
   "input_path": "__notebook__.ipynb",
   "output_path": "__notebook__.ipynb",
   "parameters": {},
   "start_time": "2023-05-23T16:47:08.996790",
   "version": "2.4.0"
  }
 },
 "nbformat": 4,
 "nbformat_minor": 5
}
