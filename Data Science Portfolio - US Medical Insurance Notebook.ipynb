{
 "cells": [
  {
   "cell_type": "markdown",
   "source": [
    "# Data Science Portfolio - US Medical Insurance Notebook ##"
   ],
   "metadata": {
    "collapsed": false
   }
  },
  {
   "cell_type": "markdown",
   "source": [
    "**Created By: Albert B. Schultz**"
   ],
   "metadata": {
    "collapsed": false
   }
  },
  {
   "cell_type": "markdown",
   "source": [
    "**Date Created: 05/21/2023**"
   ],
   "metadata": {
    "collapsed": false
   }
  },
  {
   "cell_type": "markdown",
   "source": [
    "**Version: 1.00**"
   ],
   "metadata": {
    "collapsed": false
   }
  },
  {
   "cell_type": "markdown",
   "source": [
    "## Table of Contents ##"
   ],
   "metadata": {
    "collapsed": false
   }
  },
  {
   "cell_type": "markdown",
   "source": [
    "1. [Introduction](#1.-Introduction)\n",
    "2. [Understanding Purpose, Goals, and Vision](#2.-Understanding-Purpose,-Goals,-and-Vision)\n",
    "3. [Import the Raw CSV Medical Insurance Data Set](#3-Import-the-Raw-CSV-Medical-Insurance-Data-Set)\n",
    "4. [Perform Exploratory Data Analysis](#4.-Perform-Exploratory-Data-Analysis)"
   ],
   "metadata": {
    "collapsed": false
   }
  },
  {
   "cell_type": "markdown",
   "source": [
    "## 1. Introduction ##"
   ],
   "metadata": {
    "collapsed": false
   }
  },
  {
   "cell_type": "markdown",
   "source": [
    "In this project, a **csv** file with the medical insurance costs will be investigated using the Python Fundamentals to understand the medical insurance data and make the information understandable by stakeholders who wishes to further analyze the data set. The goal of this portfolio project will be to analyze various attributes within the **insurance.csv** file and to gain insights about potential use cases for the medical insurance data set."
   ],
   "metadata": {
    "collapsed": false
   }
  },
  {
   "cell_type": "markdown",
   "source": [
    "## 2. Understanding Purpose, Goals, and Vision ##"
   ],
   "metadata": {
    "collapsed": false
   }
  },
  {
   "cell_type": "markdown",
   "source": [
    "The vision of the this Medical Insurance Portfolio notebook is; to create an understandable and easy to read analysis of the cleaned data set of the medical insurance table so others interested in this data science mission can continue going through the cleaned data analysis to hopefully come up with a root cause and solution to the medical insurance issues presented in the csv file."
   ],
   "metadata": {
    "collapsed": false
   }
  },
  {
   "cell_type": "markdown",
   "source": [
    "**Vision:** To understand the medical insurance data set to meet our vision, we must set some goals so we can understand how to get to the vision of a clean medical insurance data set so others may see and understand our point of view during the data analysis to exploration phases.\n",
    "\n",
    "**Goals:**\n",
    "1. Review the insurance.csv file to understand if there are missing information for observations along with abnormalities in the attributes of the table.\n",
    "2. Import the insurance.csv file into the Python IDE environment for staging, extractions, data manipulations and presentation.\n",
    "3. Create lists and import the insurance.csv data based on the attribute column names for brevity and organizational sake.\n",
    "4. Perform Exploratory Data Analysis to understand aspects of the cleaned medical data set into the dicitonary lists using various tools like loops, comprehension lists, and functions.\n",
    "5. Present the cleaned data set to stakeholders in case they want to continue using the cleaned data set dictionaries for their own usages."
   ],
   "metadata": {
    "collapsed": false
   }
  },
  {
   "cell_type": "markdown",
   "source": [
    "## 3. Import the Raw CSV Medical Insurance Data Set ##"
   ],
   "metadata": {
    "collapsed": false
   }
  },
  {
   "cell_type": "markdown",
   "source": [
    "**Introduction:** In this section, the data set, insurancs.csv, will be imported into this project to perform data cleaning into separate empty lists so the analysis can be done on the clean data sets."
   ],
   "metadata": {
    "collapsed": false
   }
  },
  {
   "cell_type": "markdown",
   "source": [
    "1. To get started, let us import the csv Python library module first before importing the data set."
   ],
   "metadata": {
    "collapsed": false
   }
  },
  {
   "cell_type": "code",
   "execution_count": null,
   "outputs": [],
   "source": [
    "import csv"
   ],
   "metadata": {
    "collapsed": false
   }
  },
  {
   "cell_type": "markdown",
   "source": [
    "2. The next step is, to look through the **insurance.csv** file and get acquainted with the attributes and the observations within the raw data set. Some things to keep in mind:\n",
    "a. Names of the attributes (columns) and observations (rows).\n",
    "b. Any noticeable missing information from the observations.\n",
    "c. Types of values in the attributes."
   ],
   "metadata": {
    "collapsed": false
   }
  },
  {
   "cell_type": "code",
   "execution_count": null,
   "outputs": [],
   "source": [
    "#Create empty lists that represents each attributes with a total of 7 attributes according to the raw data set csv file.\n",
    "ages = []\n",
    "sexes = []\n",
    "bmis = []\n",
    "num_children = []\n",
    "smoker_statuses = []\n",
    "regions = []\n",
    "insurance_charges = []"
   ],
   "metadata": {
    "collapsed": false
   }
  },
  {
   "cell_type": "markdown",
   "source": [
    "3. Based on the review of the **insurance.csv file, I have found 7 attributes and they are:\n",
    "a. **Patient Age**\n",
    "b. **Patient Sex**\n",
    "c. **Paitent BMI**\n",
    "d. **Patient Number of Children**\n",
    "e. **Patient Smoking Status**\n",
    "f. **Patient U.S Geographical Region**\n",
    "g. **Patient Yearly Medical Insurance Premium**"
   ],
   "metadata": {
    "collapsed": false
   }
  },
  {
   "cell_type": "markdown",
   "source": [
    "4. Based on the preliminary review of the raw data set, there were **no missing data** in the insurance.csv file."
   ],
   "metadata": {
    "collapsed": false
   }
  },
  {
   "cell_type": "markdown",
   "source": [
    "5. To store the data into seven empty lists executed above, seven empty list would be created using the custom function, **load_list_data** with input variables, **lst, csv_file, column_name**."
   ],
   "metadata": {
    "collapsed": false
   }
  },
  {
   "cell_type": "code",
   "execution_count": null,
   "outputs": [],
   "source": [
    "#Create a function that loads the data from the insurance.csv file to the seven empty lists.\n",
    "def load_list_data(lst, csv_file, column_name):\n",
    "    #Ppen csv file\n",
    "    with open(csv_file) as csv_info:\n",
    "        #Read the data from the csv file\n",
    "        csv_dict = csv.DictReader(csv_info)\n",
    "        #Loop through the data in each row of the csv\n",
    "        for row in csv_dict:\n",
    "            #Add the data from each row to a list\n",
    "            lst.append(row[column_name])\n",
    "        #Return the list\n",
    "        return lst"
   ],
   "metadata": {
    "collapsed": false
   }
  },
  {
   "cell_type": "markdown",
   "source": [
    "6. This helper function above was created to load data into the list much easier. Now, the load_list_data function will be utilized to load the csv that matches the attributes name into separate section through the function below."
   ],
   "metadata": {
    "collapsed": false
   }
  },
  {
   "cell_type": "code",
   "execution_count": null,
   "outputs": [],
   "source": [
    "load_list_data(ages, 'Data Science Datasets/insurance.csv', 'age')\n",
    "load_list_data(sexes, 'Data Science Datasets/insurance.csv', 'sex')\n",
    "load_list_data(bmis, 'Data Science Datasets/insurance.csv', 'bmi')\n",
    "load_list_data(num_children, 'Data Science Datasets/insurance.csv', 'children')\n",
    "load_list_data(smoker_statuses, 'Data Science Datasets/insurance.csv', 'smoker')\n",
    "load_list_data(regions, 'Data Science Datasets/insurance.csv', 'region')\n",
    "load_list_data(insurance_charges, 'Data Science Datasets/insurance.csv', 'charges')"
   ],
   "metadata": {
    "collapsed": false
   }
  },
  {
   "cell_type": "markdown",
   "source": [
    "**Summary:** Now that the data has been properly moved into separate empty lists, the analysis can be done properly to gather needed information about the medical insurance data set."
   ],
   "metadata": {
    "collapsed": false
   }
  },
  {
   "cell_type": "markdown",
   "source": [
    "## 4. Perform Exploratory Data Analysis ##"
   ],
   "metadata": {
    "collapsed": false
   }
  },
  {
   "cell_type": "markdown",
   "source": [
    "**Introduction:** Since we have the newly filled data lists, we can perform various analysis of the medical insurance data set. Here are some examples that can be done:\n",
    "a. Finding the average age of the patients.\n",
    "b. Finding the number of male vs. female counts in the cleaned data set.\n",
    "c. Finding the geographical locations of the patients.\n",
    "d. Creating a dictionary that contains all of the medical records."
   ],
   "metadata": {
    "collapsed": false
   }
  },
  {
   "cell_type": "markdown",
   "source": [
    "1. To perform the above inspection examples, let us create a **class** called **PatientInfo** that has five sub-classes below:\n",
    "analyze_ages()\n",
    "analyze_sexes()\n",
    "unique_regions()\n",
    "average_charges()\n",
    "medical_dictionary()"
   ],
   "metadata": {
    "collapsed": false
   }
  },
  {
   "cell_type": "code",
   "execution_count": null,
   "outputs": [],
   "source": [
    "#Create a overall class called, PatientInfo, which contains five sub-classes of the functions needed to be done to the new data set.\n",
    "class PatientInfo:\n",
    "    #Use the init method to take each list parameters and assign it to the self.patients_* variable for the class, PatientInfo.\n",
    "    def __init__(self,\n",
    "                 patients_ages,\n",
    "                 patients_sexes,\n",
    "                 patients_bmis,\n",
    "                 patients_num_children,\n",
    "                 patients_smoker_statuses,\n",
    "                 patients_regions,\n",
    "                 patients_charges\n",
    "                 ):\n",
    "        self.patients_ages = patients_ages\n",
    "        self.patients_sexes = patients_sexes\n",
    "        self.patients_bmis = patients_bmis\n",
    "        self.patients_num_children = patients_num_children\n",
    "        self.patients_smoker_statuses = patients_smoker_statuses\n",
    "        self.patients_regions = patients_regions\n",
    "        self.patients_charges = patients_charges\n",
    "\n",
    "    #Use the function method to calculate the average ages of the patients in the insurance.csv cleaned data set.\n",
    "    def analyze_ages(self):\n",
    "        #Create the variable total_age and set it to zero for the initial value.\n",
    "        total_age = 0\n",
    "        #Iterate through the ages in the self.patients_ages list that was defined from the def __init__ method.\n",
    "        for age in self.patients_ages:\n",
    "            #Find the sum of all of the patients' ages from the list variable, ages that was created in Chapter 3 Step 6 using the load_list_data() method.\n",
    "            total_age += int(age) #Convert it to integer and add the total of the ages together.\n",
    "        return print(f\"The average patient age is, {str(round(total_age/len(self.patients_ages),2))} years old.\")\n",
    "\n",
    "    #Use the function method to calculate the number of males and females in the insurance.csv cleaned data set.\n",
    "    def analyze_sexes(self):\n",
    "        #Create the variable female and male and set them to 0.\n",
    "        males = 0\n",
    "        females = 0\n",
    "        #Iterate through the sexes in the self.patients_sexes list that was defined from the def __init__ method.\n",
    "        for sex in self.patients_sexes:\n",
    "            #If male add to male variable.\n",
    "            if sex == \"male\":\n",
    "                males += 1\n",
    "            #If female add to female variable.\n",
    "            elif sex == \"female\":\n",
    "                females += 1\n",
    "        #Print out the two variable total count from both sexes.\n",
    "        print(f\"Count for male is, {str(males)}.\")\n",
    "        print(f\"Count for female is, {str(females)}.\")\n",
    "\n",
    "    #Use the function method to find each unique region that the patients came from.\n",
    "    def unique_regions(self):\n",
    "        #Create an empty initialized list called, unique_regions.\n",
    "        unique_regions = []\n",
    "        #Iterate through the regions in the self.patients_regions list that was defined from the def __init__ method.\n",
    "        for region in self.patients_regions:\n",
    "            #If region is not already in the unique regions list, then add the region to the unique regions list.\n",
    "            if region not in unique_regions:\n",
    "                unique_regions.append(region)\n",
    "        #Return unique region list.\n",
    "        return unique_regions\n",
    "\n",
    "    #Use the function method to find the average medical charges for the patients in the cleaned insurance.csv data set.\n",
    "    def average_charges(self):\n",
    "        #Create a initialized variable called, total_charges with a 0.\n",
    "        total_charges = 0\n",
    "        #Iterate through the charges in self.patients_charges list that was defined from the def __init__ method.\n",
    "        for charge in self.patients_charges:\n",
    "            #Add each charge to total_charges variable.\n",
    "            total_charges += float(charge)\n",
    "        #Return the average charges rounded to the hundredths place.\n",
    "        return print(f\"The average yearly medical insurance charges were, ${str(round(total_charges/len(self.patients_charges), 2))} dollars.\")\n",
    "\n",
    "    #Create a function that compiles individual lists into a dictionary to make it into a medical_dictionary().\n",
    "    def medical_dictionary(self):\n",
    "        self.patients_dictionary = {}\n",
    "        self.patients_dictionary[\"ages\"] = [int(age) for age in self.patients_ages]\n",
    "        self.patients_dictionary[\"sex\"] = self.patients_sexes\n",
    "        self.patients_dictionary[\"bmi\"] = self.patients_bmis\n",
    "        self.patients_dictionary[\"children\"] = self.patients_num_children\n",
    "        self.patients_dictionary[\"smoker\"] = self.patients_smoker_statuses\n",
    "        self.patients_dictionary[\"regions\"] = self.patients_regions\n",
    "        self.patients_dictionary[\"charges\"] = self.patients_charges\n",
    "        return self.patients_dictionary"
   ],
   "metadata": {
    "collapsed": false
   }
  },
  {
   "cell_type": "markdown",
   "source": [
    "2. The next step is to create an instance that has a class called, **patient_info** which contains each method that can be used to see the results of the medical data analysis."
   ],
   "metadata": {
    "collapsed": false
   }
  },
  {
   "cell_type": "code",
   "execution_count": null,
   "outputs": [],
   "source": [
    "patient_info = PatientInfo(ages, sexes, bmis, num_children, smoker_statuses, regions, insurance_charges) #These fields contains load_list_data(lst) variables from Chapter 3 Step 6."
   ],
   "metadata": {
    "collapsed": false
   }
  },
  {
   "cell_type": "code",
   "execution_count": null,
   "outputs": [],
   "source": [
    "#Print out the patient average age to the console below.\n",
    "patient_info.analyze_ages()"
   ],
   "metadata": {
    "collapsed": false
   }
  },
  {
   "cell_type": "code",
   "execution_count": null,
   "outputs": [],
   "source": [
    "#Print out the patient sexes counts within the clean.csv below.\n",
    "patient_info.analyze_sexes()"
   ],
   "metadata": {
    "collapsed": false
   }
  },
  {
   "cell_type": "code",
   "execution_count": null,
   "outputs": [],
   "source": [
    "#Print out the patient unique regions below.\n",
    "patient_info.unique_regions()"
   ],
   "metadata": {
    "collapsed": false
   }
  },
  {
   "cell_type": "code",
   "execution_count": null,
   "outputs": [],
   "source": [
    "#Print out the patient medical dicitonary below.\n",
    "patient_info.medical_dictionary()"
   ],
   "metadata": {
    "collapsed": false
   }
  },
  {
   "cell_type": "markdown",
   "source": [
    "3. All the patient data has been organized neatly in a fashion that allows to be further analyzed later."
   ],
   "metadata": {
    "collapsed": false
   }
  },
  {
   "cell_type": "markdown",
   "source": [
    "**Summary:** This data project portfolio goes through the concepts of importing the medical insurance to analyzing the cleaned data to make data analysis easier for future stakeholders should they decide to use this notebook."
   ],
   "metadata": {
    "collapsed": false
   }
  }
 ],
 "metadata": {
  "kernelspec": {
   "display_name": "Python 3",
   "language": "python",
   "name": "python3"
  },
  "language_info": {
   "codemirror_mode": {
    "name": "ipython",
    "version": 2
   },
   "file_extension": ".py",
   "mimetype": "text/x-python",
   "name": "python",
   "nbconvert_exporter": "python",
   "pygments_lexer": "ipython2",
   "version": "2.7.6"
  }
 },
 "nbformat": 4,
 "nbformat_minor": 0
}
